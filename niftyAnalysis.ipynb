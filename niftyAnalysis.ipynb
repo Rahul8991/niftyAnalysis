{
 "cells": [
  {
   "cell_type": "markdown",
   "id": "307697fa",
   "metadata": {},
   "source": [
    "## Data Visualization using Pyspark and Pandas"
   ]
  },
  {
   "cell_type": "markdown",
   "id": "ccb733ba",
   "metadata": {},
   "source": [
    "Checking Package List"
   ]
  },
  {
   "cell_type": "code",
   "execution_count": 2,
   "id": "296af510",
   "metadata": {},
   "outputs": [
    {
     "name": "stdout",
     "output_type": "stream",
     "text": [
      "Package                            Version\n",
      "---------------------------------- --------------------\n",
      "alabaster                          0.7.12\n",
      "anaconda-client                    1.9.0\n",
      "anaconda-navigator                 2.1.1\n",
      "anaconda-project                   0.10.1\n",
      "anyio                              2.2.0\n",
      "appdirs                            1.4.4\n",
      "argh                               0.26.2\n",
      "argon2-cffi                        21.1.0\n",
      "arrow                              0.13.1\n",
      "asn1crypto                         1.4.0\n",
      "astroid                            2.6.6\n",
      "astropy                            4.3.1\n",
      "async-generator                    1.10\n",
      "atomicwrites                       1.4.0\n",
      "attrs                              21.2.0\n",
      "autopep8                           1.5.7\n",
      "Babel                              2.9.1\n",
      "backcall                           0.2.0\n",
      "backports.functools-lru-cache      1.6.4\n",
      "backports.shutil-get-terminal-size 1.0.0\n",
      "backports.tempfile                 1.0\n",
      "backports.weakref                  1.0.post1\n",
      "bcrypt                             3.2.0\n",
      "beautifulsoup4                     4.10.0\n",
      "binaryornot                        0.4.4\n",
      "bitarray                           2.3.0\n",
      "bkcharts                           0.2\n",
      "black                              19.10b0\n",
      "bleach                             4.1.0\n",
      "bokeh                              2.4.1\n",
      "boto                               2.49.0\n",
      "Bottleneck                         1.3.2\n",
      "brotlipy                           0.7.0\n",
      "cached-property                    1.5.2\n",
      "certifi                            2021.10.8\n",
      "cffi                               1.15.0\n",
      "chardet                            4.0.0\n",
      "charset-normalizer                 2.0.4\n",
      "click                              8.0.3\n",
      "cloudpickle                        2.0.0\n",
      "clyent                             1.2.2\n",
      "colorama                           0.4.4\n",
      "comtypes                           1.1.10\n",
      "conda                              22.9.0\n",
      "conda-build                        3.21.6\n",
      "conda-content-trust                0+unknown\n",
      "conda-pack                         0.6.0\n",
      "conda-package-handling             1.9.0\n",
      "conda-repo-cli                     1.0.4\n",
      "conda-token                        0.3.0\n",
      "conda-verify                       3.4.2\n",
      "contextlib2                        0.6.0.post1\n",
      "cookiecutter                       1.7.2\n",
      "cryptography                       3.4.8\n",
      "cycler                             0.10.0\n",
      "Cython                             0.29.24\n",
      "cytoolz                            0.11.0\n",
      "daal4py                            2021.3.0\n",
      "dask                               2021.10.0\n",
      "debugpy                            1.5.1\n",
      "decorator                          5.1.0\n",
      "defusedxml                         0.7.1\n",
      "diff-match-patch                   20200713\n",
      "distributed                        2021.10.0\n",
      "docutils                           0.17.1\n",
      "entrypoints                        0.3\n",
      "et-xmlfile                         1.1.0\n",
      "fastcache                          1.1.0\n",
      "filelock                           3.3.1\n",
      "findspark                          1.3.0\n",
      "flake8                             3.9.2\n",
      "Flask                              1.1.2\n",
      "fonttools                          4.25.0\n",
      "fsspec                             2021.10.1\n",
      "future                             0.18.2\n",
      "gevent                             21.8.0\n",
      "glob2                              0.7\n",
      "greenlet                           1.1.1\n",
      "h5py                               3.2.1\n",
      "HeapDict                           1.0.1\n",
      "html5lib                           1.1\n",
      "idna                               3.2\n",
      "imagecodecs                        2021.8.26\n",
      "imageio                            2.9.0\n",
      "imagesize                          1.2.0\n",
      "importlib-metadata                 4.8.1\n",
      "inflection                         0.5.1\n",
      "iniconfig                          1.1.1\n",
      "intervaltree                       3.1.0\n",
      "ipykernel                          6.5.0\n",
      "ipython                            7.29.0\n",
      "ipython-genutils                   0.2.0\n",
      "ipywidgets                         7.6.5\n",
      "isort                              5.9.3\n",
      "itsdangerous                       2.0.1\n",
      "jdcal                              1.4.1\n",
      "jedi                               0.18.0\n",
      "Jinja2                             3.0.3\n",
      "jinja2-time                        0.2.0\n",
      "joblib                             1.1.0\n",
      "json5                              0.9.6\n",
      "jsonschema                         4.2.1\n",
      "jupyter                            1.0.0\n",
      "jupyter-client                     7.0.6\n",
      "jupyter-console                    6.4.0\n",
      "jupyter-core                       4.9.1\n",
      "jupyter-server                     1.4.1\n",
      "jupyterlab                         3.2.1\n",
      "jupyterlab-pygments                0.1.2\n",
      "jupyterlab-server                  2.8.2\n",
      "jupyterlab-widgets                 1.0.0\n",
      "keyring                            23.1.0\n",
      "kiwisolver                         1.3.1\n",
      "lazy-object-proxy                  1.6.0\n",
      "libarchive-c                       2.9\n",
      "llvmlite                           0.37.0\n",
      "locket                             0.2.1\n",
      "lxml                               4.6.3\n",
      "MarkupSafe                         2.0.1\n",
      "matplotlib                         3.4.3\n",
      "matplotlib-inline                  0.1.3\n",
      "mccabe                             0.6.1\n",
      "menuinst                           1.4.18\n",
      "mistune                            0.8.4\n",
      "mkl-fft                            1.3.1\n",
      "mkl-random                         1.2.2\n",
      "mkl-service                        2.4.0\n",
      "mock                               4.0.3\n",
      "more-itertools                     8.10.0\n",
      "mpmath                             1.2.1\n",
      "msgpack                            1.0.2\n",
      "multipledispatch                   0.6.0\n",
      "munkres                            1.1.4\n",
      "mypy-extensions                    0.4.3\n",
      "navigator-updater                  0.2.1\n",
      "nbclassic                          0.2.6\n",
      "nbclient                           0.5.8\n",
      "nbconvert                          6.3.0\n",
      "nbformat                           5.1.3\n",
      "nest-asyncio                       1.5.1\n",
      "networkx                           2.6.3\n",
      "nltk                               3.6.5\n",
      "nose                               1.3.7\n",
      "notebook                           6.4.5\n",
      "numba                              0.54.1\n",
      "numexpr                            2.7.3\n",
      "numpy                              1.20.3\n",
      "numpydoc                           1.1.0\n",
      "olefile                            0.46\n",
      "openpyxl                           3.0.9\n",
      "packaging                          21.2\n",
      "pandas                             1.3.4\n",
      "pandocfilters                      1.5.0\n",
      "paramiko                           2.7.2\n",
      "parso                              0.8.2\n",
      "partd                              1.2.0\n",
      "path                               16.0.0\n",
      "pathlib2                           2.3.6\n",
      "pathspec                           0.7.0\n",
      "patsy                              0.5.2\n",
      "pep8                               1.7.1\n",
      "pexpect                            4.8.0\n",
      "pickleshare                        0.7.5\n",
      "Pillow                             8.4.0\n",
      "pip                                21.2.4\n",
      "pkginfo                            1.7.1\n",
      "pluggy                             0.13.1\n",
      "ply                                3.11\n",
      "poyo                               0.5.0\n",
      "prometheus-client                  0.12.0\n",
      "prompt-toolkit                     3.0.22\n",
      "psutil                             5.8.0\n",
      "ptyprocess                         0.7.0\n",
      "py                                 1.10.0\n",
      "pycodestyle                        2.7.0\n",
      "pycosat                            0.6.3\n",
      "pycparser                          2.21\n",
      "pycurl                             7.44.1\n",
      "pydocstyle                         6.1.1\n",
      "pyerfa                             2.0.0\n",
      "pyflakes                           2.3.1\n",
      "Pygments                           2.10.0\n",
      "PyJWT                              2.4.0\n",
      "pylint                             2.9.6\n",
      "pyls-spyder                        0.4.0\n",
      "PyNaCl                             1.4.0\n",
      "pyodbc                             4.0.0-unsupported\n",
      "pyOpenSSL                          21.0.0\n",
      "pyparsing                          2.4.7\n",
      "pyreadline                         2.1\n",
      "pyrsistent                         0.18.0\n",
      "PySocks                            1.7.1\n",
      "pytest                             6.2.4\n",
      "python-dateutil                    2.8.2\n",
      "python-lsp-black                   1.0.0\n",
      "python-lsp-jsonrpc                 1.0.0\n",
      "python-lsp-server                  1.2.4\n",
      "python-slugify                     5.0.2\n",
      "pytz                               2021.3\n",
      "PyWavelets                         1.1.1\n",
      "pywin32                            302\n",
      "pywin32-ctypes                     0.2.0\n",
      "pywinpty                           1.1.5\n",
      "PyYAML                             6.0\n",
      "pyzmq                              22.3.0\n",
      "QDarkStyle                         3.0.2\n",
      "qstylizer                          0.1.10\n",
      "QtAwesome                          1.0.2\n",
      "qtconsole                          5.1.1\n",
      "QtPy                               1.10.0\n",
      "regex                              2021.8.3\n",
      "requests                           2.26.0\n",
      "rope                               0.19.0\n",
      "Rtree                              0.9.7\n",
      "ruamel-yaml-conda                  0.15.100\n",
      "scikit-image                       0.18.3\n",
      "scikit-learn                       0.24.2\n",
      "scikit-learn-intelex               2021.20210714.120553\n",
      "scipy                              1.7.1\n",
      "seaborn                            0.11.2\n",
      "Send2Trash                         1.8.0\n",
      "setuptools                         58.0.4\n",
      "simplegeneric                      0.8.1\n",
      "singledispatch                     3.7.0\n",
      "sip                                4.19.13\n",
      "six                                1.16.0\n",
      "sniffio                            1.2.0\n",
      "snowballstemmer                    2.1.0\n",
      "sortedcollections                  2.1.0\n",
      "sortedcontainers                   2.4.0\n",
      "soupsieve                          2.2.1\n",
      "sparksql-magic                     0.0.3\n",
      "Sphinx                             4.2.0\n",
      "sphinxcontrib-applehelp            1.0.2\n",
      "sphinxcontrib-devhelp              1.0.2\n",
      "sphinxcontrib-htmlhelp             2.0.0\n",
      "sphinxcontrib-jsmath               1.0.1\n",
      "sphinxcontrib-qthelp               1.0.3\n",
      "sphinxcontrib-serializinghtml      1.1.5\n",
      "sphinxcontrib-websupport           1.2.4\n",
      "spyder                             5.1.5\n",
      "spyder-kernels                     2.1.3\n",
      "SQLAlchemy                         1.4.22\n",
      "statsmodels                        0.12.2\n",
      "sympy                              1.9\n",
      "tables                             3.6.1\n",
      "TBB                                0.2\n",
      "tblib                              1.7.0\n",
      "terminado                          0.12.1\n",
      "testpath                           0.5.0\n",
      "text-unidecode                     1.3\n",
      "textdistance                       4.2.1\n",
      "threadpoolctl                      2.2.0\n",
      "three-merge                        0.1.1\n",
      "tifffile                           2021.7.2\n",
      "tinycss                            0.4\n",
      "toml                               0.10.2\n",
      "toolz                              0.11.1\n",
      "tornado                            6.1\n",
      "tqdm                               4.62.3\n",
      "traitlets                          5.1.1\n",
      "typed-ast                          1.4.3\n",
      "typing-extensions                  3.10.0.2\n",
      "ujson                              4.0.2\n",
      "unicodecsv                         0.14.1\n",
      "Unidecode                          1.2.0\n",
      "urllib3                            1.26.7\n",
      "watchdog                           2.1.3\n",
      "wcwidth                            0.2.5\n",
      "webencodings                       0.5.1\n",
      "Werkzeug                           2.0.2\n",
      "wheel                              0.37.0\n",
      "whichcraft                         0.6.1\n",
      "widgetsnbextension                 3.5.1\n",
      "win-inet-pton                      1.1.0\n",
      "win-unicode-console                0.5\n",
      "wincertstore                       0.2\n",
      "wrapt                              1.12.1\n",
      "xlrd                               2.0.1\n",
      "XlsxWriter                         3.0.1\n",
      "xlwings                            0.24.9\n",
      "xlwt                               1.3.0\n",
      "xmltodict                          0.12.0\n",
      "yapf                               0.31.0\n",
      "zict                               2.0.0\n",
      "zipp                               3.6.0\n",
      "zope.event                         4.5.0\n",
      "zope.interface                     5.4.0\n",
      "Note: you may need to restart the kernel to use updated packages.\n"
     ]
    }
   ],
   "source": [
    "pip list"
   ]
  },
  {
   "cell_type": "markdown",
   "id": "c50e1014",
   "metadata": {},
   "source": [
    " Initialising Spark"
   ]
  },
  {
   "cell_type": "code",
   "execution_count": 3,
   "id": "2c35ebbd",
   "metadata": {},
   "outputs": [],
   "source": [
    "import findspark\n",
    "findspark.init()"
   ]
  },
  {
   "cell_type": "markdown",
   "id": "3061b399",
   "metadata": {},
   "source": [
    " Importing Libraries"
   ]
  },
  {
   "cell_type": "code",
   "execution_count": 4,
   "id": "a80ca887",
   "metadata": {},
   "outputs": [],
   "source": [
    "import os\n",
    "import pandas as pd\n",
    "import matplotlib"
   ]
  },
  {
   "cell_type": "markdown",
   "id": "e8ce46e7",
   "metadata": {},
   "source": [
    "Creating Spark Session"
   ]
  },
  {
   "cell_type": "code",
   "execution_count": 5,
   "id": "6b5287ac",
   "metadata": {},
   "outputs": [],
   "source": [
    "from pyspark.sql import SparkSession"
   ]
  },
  {
   "cell_type": "code",
   "execution_count": 6,
   "id": "47f32a29",
   "metadata": {},
   "outputs": [],
   "source": [
    "from pyspark.sql.functions import *\n"
   ]
  },
  {
   "cell_type": "code",
   "execution_count": 7,
   "id": "1f0c2359",
   "metadata": {},
   "outputs": [],
   "source": [
    "spark = SparkSession.builder.appName(\"nifty\").getOrCreate()"
   ]
  },
  {
   "cell_type": "code",
   "execution_count": 8,
   "id": "5b20d9a9",
   "metadata": {},
   "outputs": [],
   "source": [
    "spark.catalog.clearCache()"
   ]
  },
  {
   "cell_type": "code",
   "execution_count": 9,
   "id": "d7e156a9",
   "metadata": {},
   "outputs": [
    {
     "data": {
      "text/plain": [
       "<module 'ntpath' from 'c:\\\\Users\\\\Rahul\\\\anaconda3\\\\lib\\\\ntpath.py'>"
      ]
     },
     "execution_count": 9,
     "metadata": {},
     "output_type": "execute_result"
    }
   ],
   "source": [
    "os.path"
   ]
  },
  {
   "cell_type": "markdown",
   "id": "4e0a98b7",
   "metadata": {},
   "source": [
    "Reading file from local machine and storing it into a dataframe"
   ]
  },
  {
   "cell_type": "code",
   "execution_count": 10,
   "id": "82f51004",
   "metadata": {},
   "outputs": [],
   "source": [
    "df= spark.read.format('csv').option('header','true').option('inferSchema','true').load('../niftyDataPoints/nifty50_2007.csv')"
   ]
  },
  {
   "cell_type": "code",
   "execution_count": 11,
   "id": "63aa7afe",
   "metadata": {},
   "outputs": [
    {
     "name": "stdout",
     "output_type": "stream",
     "text": [
      "+----------+-------+-------+-------+------+\n",
      "|      Date|   Open|   High|    Low| Close|\n",
      "+----------+-------+-------+-------+------+\n",
      "|31-12-2007| 6095.0|6167.75| 6095.0|6138.6|\n",
      "|28-12-2007|6079.55| 6098.6| 6021.9|6079.7|\n",
      "|27-12-2007| 6069.0|6110.85| 6060.2|6081.5|\n",
      "|26-12-2007|5988.45|6085.25|5988.45|6070.7|\n",
      "|24-12-2007| 5771.3|6001.05| 5771.3|5985.1|\n",
      "|20-12-2007|5751.75| 5799.5|5742.75|5766.5|\n",
      "|19-12-2007|5730.25| 5840.8| 5676.7|5751.1|\n",
      "|18-12-2007| 5777.6| 5874.6| 5710.6|5742.3|\n",
      "|17-12-2007|6037.95|6039.95| 5740.6|5777.0|\n",
      "|14-12-2007| 6056.2|6078.55|6015.05|6047.7|\n",
      "|13-12-2007|6159.25| 6185.4| 6040.4|6058.1|\n",
      "|12-12-2007|6067.05|6175.65|6005.45|6159.3|\n",
      "|11-12-2007| 5960.4| 6111.2| 5960.4|6097.2|\n",
      "|10-12-2007| 5974.0| 6015.3|5923.35|5960.6|\n",
      "|07-12-2007| 5963.6| 6042.1| 5894.8|5974.3|\n",
      "|06-12-2007|5941.05|6027.05| 5919.8|5954.7|\n",
      "|05-12-2007| 5861.9| 5949.3|5859.95|5940.0|\n",
      "|04-12-2007| 5870.2|5897.25| 5840.3|5858.3|\n",
      "|03-12-2007|5765.45| 5878.8| 5754.6|5865.0|\n",
      "|30-11-2007| 5633.9|5782.55|5632.65|5762.7|\n",
      "+----------+-------+-------+-------+------+\n",
      "only showing top 20 rows\n",
      "\n"
     ]
    }
   ],
   "source": [
    "df.show()"
   ]
  },
  {
   "cell_type": "code",
   "execution_count": 12,
   "id": "ef674275",
   "metadata": {},
   "outputs": [
    {
     "data": {
      "text/plain": [
       "249"
      ]
     },
     "execution_count": 12,
     "metadata": {},
     "output_type": "execute_result"
    }
   ],
   "source": [
    "df.count()"
   ]
  },
  {
   "cell_type": "code",
   "execution_count": 13,
   "id": "5d2dd612",
   "metadata": {},
   "outputs": [
    {
     "data": {
      "text/plain": [
       "[Row(Date='02-01-2007', Open=3966.25, High=4016.65, Low=3964.95, Close=4007.4)]"
      ]
     },
     "execution_count": 13,
     "metadata": {},
     "output_type": "execute_result"
    }
   ],
   "source": [
    "df.tail(1)"
   ]
  },
  {
   "cell_type": "code",
   "execution_count": 14,
   "id": "e44c2406",
   "metadata": {},
   "outputs": [
    {
     "data": {
      "text/plain": [
       "Row(Date='31-12-2007', Open=6095.0, High=6167.75, Low=6095.0, Close=6138.6)"
      ]
     },
     "execution_count": 14,
     "metadata": {},
     "output_type": "execute_result"
    }
   ],
   "source": [
    "df.head()"
   ]
  },
  {
   "cell_type": "code",
   "execution_count": 15,
   "id": "d1ac1ebb",
   "metadata": {
    "scrolled": true
   },
   "outputs": [
    {
     "name": "stdout",
     "output_type": "stream",
     "text": [
      "root\n",
      " |-- Date: string (nullable = true)\n",
      " |-- Open: double (nullable = true)\n",
      " |-- High: double (nullable = true)\n",
      " |-- Low: double (nullable = true)\n",
      " |-- Close: double (nullable = true)\n",
      "\n"
     ]
    }
   ],
   "source": [
    "df.printSchema()"
   ]
  },
  {
   "cell_type": "code",
   "execution_count": 16,
   "id": "cb3586f7",
   "metadata": {},
   "outputs": [
    {
     "data": {
      "text/plain": [
       "['Date', 'Open', 'High', 'Low', 'Close']"
      ]
     },
     "execution_count": 16,
     "metadata": {},
     "output_type": "execute_result"
    }
   ],
   "source": [
    "df.columns"
   ]
  },
  {
   "cell_type": "code",
   "execution_count": 17,
   "id": "597b02cc",
   "metadata": {},
   "outputs": [],
   "source": [
    "df = df.select(to_date(col('Date'), \"dd-MM-yyyy\").alias(\"Date_Formatted\"),*df.columns[1:])"
   ]
  },
  {
   "cell_type": "markdown",
   "id": "f4eb3393",
   "metadata": {},
   "source": [
    "Creating Temp View of the dataframe for transformation using SQL"
   ]
  },
  {
   "cell_type": "code",
   "execution_count": 18,
   "id": "9dcc115c",
   "metadata": {},
   "outputs": [],
   "source": [
    "df.createOrReplaceTempView(\"NIFTY\")"
   ]
  },
  {
   "cell_type": "code",
   "execution_count": 19,
   "id": "3e06e192",
   "metadata": {},
   "outputs": [],
   "source": [
    "# df.filter(\"Date_Formatted == '2007-06-29'\").show()         for filtering out dates"
   ]
  },
  {
   "cell_type": "code",
   "execution_count": 20,
   "id": "e0d8a75a",
   "metadata": {},
   "outputs": [],
   "source": [
    "mysql = '''\n",
    "SELECT *\n",
    "FROM NIFTY\n",
    "WHERE Date_Formatted BETWEEN '2007-01-01' AND '2007-06-30' \n",
    "ORDER BY Date_Formatted ASC'''"
   ]
  },
  {
   "cell_type": "code",
   "execution_count": 21,
   "id": "1bde2c52",
   "metadata": {},
   "outputs": [],
   "source": [
    "df_fh = spark.sql(mysql)"
   ]
  },
  {
   "cell_type": "code",
   "execution_count": 22,
   "id": "45739250",
   "metadata": {},
   "outputs": [
    {
     "name": "stdout",
     "output_type": "stream",
     "text": [
      "+--------------+-------+-------+-------+------+\n",
      "|Date_Formatted|   Open|   High|    Low| Close|\n",
      "+--------------+-------+-------+-------+------+\n",
      "|    2007-01-02|3966.25|4016.65|3964.95|4007.4|\n",
      "|    2007-01-03| 4007.7| 4029.8| 3985.0|4024.0|\n",
      "|    2007-01-04| 4027.3| 4041.0| 3979.8|3988.8|\n",
      "|    2007-01-05|3990.15|4011.45|3969.65|3983.4|\n",
      "|    2007-01-08| 3983.3|3987.45| 3913.0|3933.4|\n",
      "|    2007-01-09| 3933.3|3963.75|3890.75|3911.4|\n",
      "|    2007-01-10|3910.95|3911.95| 3841.7|3850.3|\n",
      "|    2007-01-11|3852.15| 3953.1| 3833.6|3942.2|\n",
      "|    2007-01-12|3944.55|4059.15|3944.55|4052.4|\n",
      "|    2007-01-15|4052.85|4099.65| 4052.4|4078.4|\n",
      "|    2007-01-16| 4090.7|4107.45| 4067.9|4080.5|\n",
      "|    2007-01-17| 4084.9|4096.75|4071.55|4076.4|\n",
      "|    2007-01-18| 4075.2|4140.25| 4075.2|4109.0|\n",
      "|    2007-01-19| 4126.0|4137.15|4058.35|4090.1|\n",
      "|    2007-01-22| 4089.6| 4114.5|4069.95|4102.4|\n",
      "|    2007-01-23|4102.65| 4105.1|4056.45|4066.1|\n",
      "|    2007-01-24| 4066.6|4098.25|4065.75|4089.9|\n",
      "|    2007-01-25|4092.05|4157.95| 4090.1|4147.7|\n",
      "|    2007-01-29| 4148.4|4167.15|4115.75|4124.4|\n",
      "|    2007-01-31|4123.85|4137.85|4068.55|4082.7|\n",
      "+--------------+-------+-------+-------+------+\n",
      "only showing top 20 rows\n",
      "\n"
     ]
    }
   ],
   "source": [
    "df_fh.show()"
   ]
  },
  {
   "cell_type": "markdown",
   "id": "37c0b1d4",
   "metadata": {},
   "source": [
    "Storing the result to pandas df for analysis"
   ]
  },
  {
   "cell_type": "code",
   "execution_count": 23,
   "id": "9a31eb52",
   "metadata": {},
   "outputs": [],
   "source": [
    "pd_df = df_fh.toPandas()"
   ]
  },
  {
   "cell_type": "code",
   "execution_count": 31,
   "id": "89006374",
   "metadata": {},
   "outputs": [],
   "source": [
    "# start = open(first_record)\n",
    "# low_f = low(Date>= '01-01-2007' AND Date<= '30-06-2007')\n",
    "# high_f = high(Date>= '01-01-2007' AND Date<= '30-06-2007')\n",
    "# end = close(last_record)"
   ]
  },
  {
   "cell_type": "code",
   "execution_count": 26,
   "id": "83691565",
   "metadata": {},
   "outputs": [],
   "source": [
    "start = df_fh.collect()[0]['Open']"
   ]
  },
  {
   "cell_type": "code",
   "execution_count": 27,
   "id": "0cc762fe",
   "metadata": {},
   "outputs": [],
   "source": [
    "end = df_fh.collect()[-1][\"Close\"]"
   ]
  },
  {
   "cell_type": "code",
   "execution_count": 28,
   "id": "414b4ee0",
   "metadata": {},
   "outputs": [
    {
     "data": {
      "text/plain": [
       "DataFrame[max(High): double]"
      ]
     },
     "execution_count": 28,
     "metadata": {},
     "output_type": "execute_result"
    }
   ],
   "source": [
    "df_fh.select([max(\"High\")])"
   ]
  },
  {
   "cell_type": "code",
   "execution_count": 29,
   "id": "a6d571c5",
   "metadata": {},
   "outputs": [
    {
     "data": {
      "text/plain": [
       "<module 'pandas' from 'c:\\\\Users\\\\Rahul\\\\anaconda3\\\\lib\\\\site-packages\\\\pandas\\\\__init__.py'>"
      ]
     },
     "execution_count": 29,
     "metadata": {},
     "output_type": "execute_result"
    }
   ],
   "source": [
    "pd"
   ]
  },
  {
   "cell_type": "code",
   "execution_count": 30,
   "id": "bd14721b",
   "metadata": {},
   "outputs": [
    {
     "data": {
      "text/plain": [
       "<AxesSubplot:>"
      ]
     },
     "execution_count": 30,
     "metadata": {},
     "output_type": "execute_result"
    },
    {
     "data": {
      "image/png": "[encoded data removed]",
      "text/plain": [
       "<Figure size 432x288 with 1 Axes>"
      ]
     },
     "metadata": {
      "needs_background": "light"
     },
     "output_type": "display_data"
    }
   ],
   "source": [
    "pd_df.plot()"
   ]
  },
  {
   "cell_type": "code",
   "execution_count": null,
   "id": "7aba96b6",
   "metadata": {},
   "outputs": [],
   "source": []
  }
 ],
 "metadata": {
  "kernelspec": {
   "display_name": "Python 3.9.7 ('base')",
   "language": "python",
   "name": "python3"
  },
  "language_info": {
   "codemirror_mode": {
    "name": "ipython",
    "version": 3
   },
   "file_extension": ".py",
   "mimetype": "text/x-python",
   "name": "python",
   "nbconvert_exporter": "python",
   "pygments_lexer": "ipython3",
   "version": "3.9.7"
  },
  "vscode": {
   "interpreter": {
    "hash": "b4ff08fef9982690d6ee8a04378ac9cf6dd61a554303897a8b9d3dde3a4eb03b"
   }
  }
 },
 "nbformat": 4,
 "nbformat_minor": 5
}
